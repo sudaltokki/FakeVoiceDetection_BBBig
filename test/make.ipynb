{
 "cells": [
  {
   "cell_type": "code",
   "execution_count": 1,
   "metadata": {},
   "outputs": [],
   "source": [
    "import numpy as np\n",
    "import librosa\n",
    "import soundfile as sf\n",
    "import pandas as pd\n",
    "from tqdm import tqdm\n",
    "import random\n",
    "import os"
   ]
  },
  {
   "cell_type": "code",
   "execution_count": 2,
   "metadata": {},
   "outputs": [],
   "source": [
    "def calculate_rms(signal):\n",
    "    return np.sqrt(np.mean(signal**2))\n",
    "\n",
    "def add_noise(org_csv, noise_csv, save_path, snr_start, snr_end):\n",
    "    org_files = pd.read_csv(org_csv)['path'].tolist()\n",
    "    org_fs = pd.read_csv(org_csv)['id'].tolist()\n",
    "    noise_files = pd.read_csv(noise_csv)['path'].tolist()\n",
    "\n",
    "    for idx in tqdm(range(len(org_files))):\n",
    "        audio, sr = librosa.load('data'+org_files[idx][1:])\n",
    "        noise_file = random.choice(noise_files)\n",
    "        noise, noise_sr = librosa.load('cut_noise/'+noise_file)\n",
    "\n",
    "        if len(audio) < sr*5:\n",
    "            padding = np.zeros((sr*5)- len(audio))\n",
    "            audio = np.concatenate((audio, padding))\n",
    "\n",
    "        audio = audio[:sr*5]\n",
    "        noise = noise[:sr*5]\n",
    "        # print(audio.shape)\n",
    "        \n",
    "        rms_signal = calculate_rms(audio)\n",
    "        \n",
    "        snr_db = random.uniform(snr_start, snr_end)\n",
    "        snr_linear = 10**(snr_db / 20)\n",
    "        rms_noise = rms_signal / snr_linear\n",
    "        current_rms_noise = calculate_rms(noise)\n",
    "        noise_scaling_factor = rms_noise / current_rms_noise\n",
    "        adjusted_noise = noise * noise_scaling_factor\n",
    "        noisy_audio = audio + adjusted_noise\n",
    "\n",
    "        file_path = save_path + org_fs[idx] + '.ogg'\n",
    "        \n",
    "        sf.write(file_path, noisy_audio, sr, format='OGG')"
   ]
  },
  {
   "cell_type": "code",
   "execution_count": 3,
   "metadata": {},
   "outputs": [
    {
     "name": "stderr",
     "output_type": "stream",
     "text": [
      "100%|██████████| 30000/30000 [1:08:22<00:00,  7.31it/s]\n"
     ]
    }
   ],
   "source": [
    "org_path = 'padded_combined_train_for_noise.csv'\n",
    "noise_path = 'noise_for_add.csv'\n",
    "save_path = 'comb_noise_added/'\n",
    "\n",
    "add_noise(org_path, noise_path, save_path, 0.7, 3)"
   ]
  }
 ],
 "metadata": {
  "kernelspec": {
   "display_name": "asvspoof2021",
   "language": "python",
   "name": "python3"
  },
  "language_info": {
   "codemirror_mode": {
    "name": "ipython",
    "version": 3
   },
   "file_extension": ".py",
   "mimetype": "text/x-python",
   "name": "python",
   "nbconvert_exporter": "python",
   "pygments_lexer": "ipython3",
   "version": "3.8.19"
  }
 },
 "nbformat": 4,
 "nbformat_minor": 2
}
