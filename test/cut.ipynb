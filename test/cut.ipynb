{
 "cells": [
  {
   "cell_type": "code",
   "execution_count": 1,
   "metadata": {},
   "outputs": [],
   "source": [
    "import soundfile as sf\n",
    "import os\n",
    "from tqdm import tqdm"
   ]
  },
  {
   "cell_type": "code",
   "execution_count": 2,
   "metadata": {},
   "outputs": [],
   "source": [
    "def cut_noise(inputpath, outpath):\n",
    "    flist = os.listdir(inputpath)\n",
    "    for f in tqdm(flist):\n",
    "        audio_data, sample_rate = sf.read(inputpath+f)\n",
    "        chunk_length = 5 * sample_rate\n",
    "        total_samples = len(audio_data)\n",
    "\n",
    "        for i in range(0, total_samples, chunk_length):\n",
    "            chunk_data = audio_data[i:i+chunk_length]\n",
    "            output_file = outpath + f.replace(\".ogg\", f'_{i // chunk_length}.ogg')\n",
    "            # print(output_file)\n",
    "            sf.write(output_file, chunk_data, sample_rate, format='OGG')"
   ]
  },
  {
   "cell_type": "code",
   "execution_count": 8,
   "metadata": {},
   "outputs": [
    {
     "name": "stderr",
     "output_type": "stream",
     "text": [
      "100%|██████████| 300/300 [00:44<00:00,  6.77it/s]\n"
     ]
    }
   ],
   "source": [
    "# 입력 폴더 경로 설정\n",
    "input_folder = \"gen_noise_seed_59_61/\"\n",
    "output_folder = \"cutcut/\"\n",
    "\n",
    "cut_noise(input_folder, output_folder)"
   ]
  },
  {
   "cell_type": "code",
   "execution_count": 9,
   "metadata": {},
   "outputs": [
    {
     "data": {
      "text/plain": [
       "7800"
      ]
     },
     "execution_count": 9,
     "metadata": {},
     "output_type": "execute_result"
    }
   ],
   "source": [
    "a = os.listdir('cutcut/')\n",
    "len(a)"
   ]
  },
  {
   "cell_type": "code",
   "execution_count": null,
   "metadata": {},
   "outputs": [],
   "source": []
  }
 ],
 "metadata": {
  "kernelspec": {
   "display_name": "asvspoof2021",
   "language": "python",
   "name": "python3"
  },
  "language_info": {
   "codemirror_mode": {
    "name": "ipython",
    "version": 3
   },
   "file_extension": ".py",
   "mimetype": "text/x-python",
   "name": "python",
   "nbconvert_exporter": "python",
   "pygments_lexer": "ipython3",
   "version": "3.8.19"
  }
 },
 "nbformat": 4,
 "nbformat_minor": 2
}
