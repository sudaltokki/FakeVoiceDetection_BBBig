{
  "cells": [
    {
      "cell_type": "code",
      "execution_count": 4,
      "metadata": {
        "colab": {
          "base_uri": "https://localhost:8080/"
        },
        "id": "ObIbhF-88eii",
        "outputId": "23c90e88-2f22-484d-e822-56b4106e0586"
      },
      "outputs": [
        {
          "name": "stderr",
          "output_type": "stream",
          "text": [
            "c:\\Users\\user\\anaconda3\\envs\\asvspoof2021\\lib\\site-packages\\tqdm\\auto.py:21: TqdmWarning: IProgress not found. Please update jupyter and ipywidgets. See https://ipywidgets.readthedocs.io/en/stable/user_install.html\n",
            "  from .autonotebook import tqdm as notebook_tqdm\n",
            "c:\\Users\\user\\anaconda3\\envs\\asvspoof2021\\lib\\site-packages\\torchaudio\\extension\\extension.py:14: UserWarning: torchaudio C++ extension is not available.\n",
            "  warnings.warn('torchaudio C++ extension is not available.')\n"
          ]
        },
        {
          "name": "stdout",
          "output_type": "stream",
          "text": [
            "1.6.0\n",
            "0.6.0\n"
          ]
        }
      ],
      "source": [
        "import torch\n",
        "import torchaudio\n",
        "import torchaudio.functional as F\n",
        "\n",
        "print(torch.__version__)\n",
        "print(torchaudio.__version__)\n",
        "\n",
        "import matplotlib.pyplot as plt\n",
        "import numpy as np\n",
        "import librosa\n",
        "import soundfile as sf\n",
        "import pandas as pd\n",
        "from tqdm import tqdm\n",
        "import os\n",
        "import random"
      ]
    },
    {
      "cell_type": "code",
      "execution_count": 2,
      "metadata": {},
      "outputs": [],
      "source": [
        "from IPython.display import Audio"
      ]
    },
    {
      "cell_type": "markdown",
      "metadata": {},
      "source": [
        "# Making Noise"
      ]
    },
    {
      "cell_type": "code",
      "execution_count": 16,
      "metadata": {},
      "outputs": [
        {
          "data": {
            "text/plain": [
              "(264600,)"
            ]
          },
          "execution_count": 16,
          "metadata": {},
          "output_type": "execute_result"
        }
      ],
      "source": [
        "noise, sr = librosa.load('data/unlabeled_data/GJNSVOZO.ogg')\n",
        "noise = noise[22050*2:]\n",
        "noise = np.append(noise, noise, axis=0)\n",
        "noise = np.append(noise, noise, axis=0)\n",
        "noise = noise + noise\n",
        "noise.shape"
      ]
    },
    {
      "cell_type": "code",
      "execution_count": null,
      "metadata": {},
      "outputs": [],
      "source": [
        "Audio(noise, rate=22050)"
      ]
    },
    {
      "cell_type": "code",
      "execution_count": 17,
      "metadata": {},
      "outputs": [
        {
          "ename": "",
          "evalue": "",
          "output_type": "error",
          "traceback": [
            "\u001b[1;31mThe Kernel crashed while executing code in the current cell or a previous cell. \n",
            "\u001b[1;31mPlease review the code in the cell(s) to identify a possible cause of the failure. \n",
            "\u001b[1;31mClick <a href='https://aka.ms/vscodeJupyterKernelCrash'>here</a> for more info. \n",
            "\u001b[1;31mView Jupyter <a href='command:jupyter.viewOutput'>log</a> for further details."
          ]
        }
      ],
      "source": [
        "sf.write('GJNSVOZO_noise.ogg', noise, sr, format='OGG')"
      ]
    },
    {
      "cell_type": "markdown",
      "metadata": {},
      "source": [
        "# Adding Noise"
      ]
    },
    {
      "cell_type": "code",
      "execution_count": 4,
      "metadata": {
        "colab": {
          "base_uri": "https://localhost:8080/"
        },
        "id": "R_0YCGTHiE2S",
        "outputId": "d415352d-414e-4560-82c3-21f5460c9392"
      },
      "outputs": [
        {
          "name": "stdout",
          "output_type": "stream",
          "text": [
            "55438 19800\n"
          ]
        }
      ],
      "source": [
        "# prompt: data_path = '/content/drive/MyDrive/Colab_Notebooks/DACON/spoof/data/train' 에서의 파일 목록 출력\n",
        "\n",
        "import os\n",
        "\n",
        "data_path = '../data/train'\n",
        "noise_path = '../data/cut_noise'\n",
        "\n",
        "# Get the list of files in the directory\n",
        "filelist = os.listdir(data_path)\n",
        "noiselist = os.listdir(noise_path)\n",
        "\n",
        "print(len(filelist), len(noiselist))\n"
      ]
    },
    {
      "cell_type": "code",
      "execution_count": 4,
      "metadata": {},
      "outputs": [
        {
          "data": {
            "text/plain": [
              "55438"
            ]
          },
          "execution_count": 4,
          "metadata": {},
          "output_type": "execute_result"
        }
      ],
      "source": [
        "len(filelist)"
      ]
    },
    {
      "cell_type": "code",
      "execution_count": 5,
      "metadata": {},
      "outputs": [
        {
          "name": "stderr",
          "output_type": "stream",
          "text": [
            "100%|██████████| 51704/51704 [00:00<00:00, 148738.96it/s]\n"
          ]
        }
      ],
      "source": [
        "for n in tqdm(noiselist):\n",
        "    filelist.remove(n)"
      ]
    },
    {
      "cell_type": "code",
      "execution_count": 6,
      "metadata": {
        "colab": {
          "base_uri": "https://localhost:8080/"
        },
        "id": "DPnNRRR3Boqn",
        "outputId": "b8d67e7e-b145-493c-fb72-a6d893f0111e"
      },
      "outputs": [
        {
          "name": "stderr",
          "output_type": "stream",
          "text": [
            "100%|██████████| 3734/3734 [03:06<00:00, 20.04it/s]\n"
          ]
        }
      ],
      "source": [
        "from tqdm import tqdm\n",
        "import pandas as pd\n",
        "\n",
        "for idx in tqdm(range(len(filelist))):\n",
        "  speech, sr = librosa.load('data/train/'+filelist[idx])\n",
        "  noise, _ = librosa.load('GJNSVOZO_noise.ogg')\n",
        "  file_path = 'noise/'+filelist[idx]\n",
        "  if speech.shape[0] > noise.shape[0]:\n",
        "      pad_width = speech.shape[0] - noise.shape[0]\n",
        "      zero_array = np.zeros(pad_width)\n",
        "      noise = np.append(noise, zero_array, axis=0)\n",
        "      # print(noise.shape)\n",
        "  else:\n",
        "      noise = noise[:speech.shape[0]]\n",
        "  noisy_speech = speech + noise\n",
        "\n",
        "  sf.write(file_path, noisy_speech, sr, format='OGG')"
      ]
    },
    {
      "cell_type": "code",
      "execution_count": 8,
      "metadata": {},
      "outputs": [
        {
          "data": {
            "text/plain": [
              "['data/noise_for_aug\\\\noise_ACHLOQRM.ogg',\n",
              " 'data/noise_for_aug\\\\noise_AHHFPCPB.ogg',\n",
              " 'data/noise_for_aug\\\\noise_AJHEAGQS.ogg',\n",
              " 'data/noise_for_aug\\\\noise_BDCDLPPL.ogg',\n",
              " 'data/noise_for_aug\\\\noise_BDHSWTSL.ogg',\n",
              " 'data/noise_for_aug\\\\noise_BKIRLZMS.ogg',\n",
              " 'data/noise_for_aug\\\\noise_BRAAQRBI.ogg',\n",
              " 'data/noise_for_aug\\\\noise_BRWTPRLV.ogg',\n",
              " 'data/noise_for_aug\\\\noise_BYJDOELP.ogg',\n",
              " 'data/noise_for_aug\\\\noise_CAAGJRBF.ogg',\n",
              " 'data/noise_for_aug\\\\noise_CCGZXAOC.ogg',\n",
              " 'data/noise_for_aug\\\\noise_CNZIDPHH.ogg',\n",
              " 'data/noise_for_aug\\\\noise_CPJUQQOI.ogg']"
            ]
          },
          "execution_count": 8,
          "metadata": {},
          "output_type": "execute_result"
        }
      ],
      "source": [
        "data_path = 'data/train'\n",
        "filelist = os.listdir(data_path)\n",
        "noise_files = [os.path.join('data/noise_for_aug', f) for f in os.listdir('data/noise_for_aug')]\n",
        "noise_files"
      ]
    },
    {
      "cell_type": "code",
      "execution_count": 15,
      "metadata": {},
      "outputs": [],
      "source": [
        "def calculate_rms(signal):\n",
        "    return np.sqrt(np.mean(signal**2))\n",
        "\n",
        "def add_noise(org_csv, noise_csv, save_path):\n",
        "    org_files = pd.read_csv(org_csv)['path'].tolist()\n",
        "    org_fs = pd.read_csv(org_csv)['id'].to_list()\n",
        "    noise_files = pd.read_csv(noise_csv)['path'].tolist()\n",
        "\n",
        "    for idx in tqdm(range(len(org_files))):\n",
        "        audio, sr = librosa.load('data/'+org_files[idx][1:])\n",
        "        noise_file = random.choice(noise_files)\n",
        "        noise, noise_sr = librosa.load('data/cut_noise/'+noise_file)\n",
        "\n",
        "        if len(audio) < sr*5:\n",
        "            padding = np.zeros((sr*5)- len(audio))\n",
        "            audio = np.concatenate((audio, padding))\n",
        "\n",
        "        audio = audio[:sr*5]\n",
        "        audio = audio * 0.2\n",
        "        noise = noise[:sr*5]\n",
        "        # print(audio.shape)\n",
        "        \n",
        "        rms_signal = calculate_rms(audio)\n",
        "\n",
        "        snr_db = 0.1\n",
        "        snr_linear = 10 ** (snr_db / 20)\n",
        "        rms_noise = rms_signal / snr_linear\n",
        "        current_rms_noise = calculate_rms(noise)\n",
        "        noise_scaling_factor = rms_noise / current_rms_noise\n",
        "        adjusted_noise = noise * noise_scaling_factor\n",
        "        noisy_audio = audio + adjusted_noise\n",
        "        file_path = save_path + org_fs[idx] + '.ogg'\n",
        "        \n",
        "        sf.write(file_path, noisy_audio, sr, format='OGG')"
      ]
    },
    {
      "cell_type": "code",
      "execution_count": 16,
      "metadata": {},
      "outputs": [
        {
          "name": "stderr",
          "output_type": "stream",
          "text": [
            " 50%|████▉     | 14901/30000 [20:57<21:14, 11.85it/s]  \n"
          ]
        },
        {
          "ename": "KeyboardInterrupt",
          "evalue": "",
          "output_type": "error",
          "traceback": [
            "\u001b[1;31m---------------------------------------------------------------------------\u001b[0m",
            "\u001b[1;31mKeyboardInterrupt\u001b[0m                         Traceback (most recent call last)",
            "Cell \u001b[1;32mIn[16], line 5\u001b[0m\n\u001b[0;32m      2\u001b[0m noise_path \u001b[38;5;241m=\u001b[39m \u001b[38;5;124m'\u001b[39m\u001b[38;5;124mdata/noise_for_add.csv\u001b[39m\u001b[38;5;124m'\u001b[39m\n\u001b[0;32m      3\u001b[0m save_path \u001b[38;5;241m=\u001b[39m \u001b[38;5;124m'\u001b[39m\u001b[38;5;124mnoise/\u001b[39m\u001b[38;5;124m'\u001b[39m\n\u001b[1;32m----> 5\u001b[0m \u001b[43madd_noise\u001b[49m\u001b[43m(\u001b[49m\u001b[43morg_path\u001b[49m\u001b[43m,\u001b[49m\u001b[43m \u001b[49m\u001b[43mnoise_path\u001b[49m\u001b[43m,\u001b[49m\u001b[43m \u001b[49m\u001b[43msave_path\u001b[49m\u001b[43m)\u001b[49m\n",
            "Cell \u001b[1;32mIn[15], line 34\u001b[0m, in \u001b[0;36madd_noise\u001b[1;34m(org_csv, noise_csv, save_path)\u001b[0m\n\u001b[0;32m     31\u001b[0m noisy_audio \u001b[38;5;241m=\u001b[39m audio \u001b[38;5;241m+\u001b[39m adjusted_noise\n\u001b[0;32m     32\u001b[0m file_path \u001b[38;5;241m=\u001b[39m save_path \u001b[38;5;241m+\u001b[39m org_fs[idx] \u001b[38;5;241m+\u001b[39m \u001b[38;5;124m'\u001b[39m\u001b[38;5;124m.ogg\u001b[39m\u001b[38;5;124m'\u001b[39m\n\u001b[1;32m---> 34\u001b[0m \u001b[43msf\u001b[49m\u001b[38;5;241;43m.\u001b[39;49m\u001b[43mwrite\u001b[49m\u001b[43m(\u001b[49m\u001b[43mfile_path\u001b[49m\u001b[43m,\u001b[49m\u001b[43m \u001b[49m\u001b[43mnoisy_audio\u001b[49m\u001b[43m,\u001b[49m\u001b[43m \u001b[49m\u001b[43msr\u001b[49m\u001b[43m,\u001b[49m\u001b[43m \u001b[49m\u001b[38;5;28;43mformat\u001b[39;49m\u001b[38;5;241;43m=\u001b[39;49m\u001b[38;5;124;43m'\u001b[39;49m\u001b[38;5;124;43mOGG\u001b[39;49m\u001b[38;5;124;43m'\u001b[39;49m\u001b[43m)\u001b[49m\n",
            "File \u001b[1;32mc:\\Users\\user\\anaconda3\\envs\\asvspoof2021\\lib\\site-packages\\soundfile.py:345\u001b[0m, in \u001b[0;36mwrite\u001b[1;34m(file, data, samplerate, subtype, endian, format, closefd)\u001b[0m\n\u001b[0;32m    342\u001b[0m     channels \u001b[38;5;241m=\u001b[39m data\u001b[38;5;241m.\u001b[39mshape[\u001b[38;5;241m1\u001b[39m]\n\u001b[0;32m    343\u001b[0m \u001b[38;5;28;01mwith\u001b[39;00m SoundFile(file, \u001b[38;5;124m'\u001b[39m\u001b[38;5;124mw\u001b[39m\u001b[38;5;124m'\u001b[39m, samplerate, channels,\n\u001b[0;32m    344\u001b[0m                subtype, endian, \u001b[38;5;28mformat\u001b[39m, closefd) \u001b[38;5;28;01mas\u001b[39;00m f:\n\u001b[1;32m--> 345\u001b[0m     \u001b[43mf\u001b[49m\u001b[38;5;241;43m.\u001b[39;49m\u001b[43mwrite\u001b[49m\u001b[43m(\u001b[49m\u001b[43mdata\u001b[49m\u001b[43m)\u001b[49m\n",
            "File \u001b[1;32mc:\\Users\\user\\anaconda3\\envs\\asvspoof2021\\lib\\site-packages\\soundfile.py:1020\u001b[0m, in \u001b[0;36mSoundFile.write\u001b[1;34m(self, data)\u001b[0m\n\u001b[0;32m   1018\u001b[0m \u001b[38;5;66;03m# no copy is made if data has already the correct memory layout:\u001b[39;00m\n\u001b[0;32m   1019\u001b[0m data \u001b[38;5;241m=\u001b[39m np\u001b[38;5;241m.\u001b[39mascontiguousarray(data)\n\u001b[1;32m-> 1020\u001b[0m written \u001b[38;5;241m=\u001b[39m \u001b[38;5;28;43mself\u001b[39;49m\u001b[38;5;241;43m.\u001b[39;49m\u001b[43m_array_io\u001b[49m\u001b[43m(\u001b[49m\u001b[38;5;124;43m'\u001b[39;49m\u001b[38;5;124;43mwrite\u001b[39;49m\u001b[38;5;124;43m'\u001b[39;49m\u001b[43m,\u001b[49m\u001b[43m \u001b[49m\u001b[43mdata\u001b[49m\u001b[43m,\u001b[49m\u001b[43m \u001b[49m\u001b[38;5;28;43mlen\u001b[39;49m\u001b[43m(\u001b[49m\u001b[43mdata\u001b[49m\u001b[43m)\u001b[49m\u001b[43m)\u001b[49m\n\u001b[0;32m   1021\u001b[0m \u001b[38;5;28;01massert\u001b[39;00m written \u001b[38;5;241m==\u001b[39m \u001b[38;5;28mlen\u001b[39m(data)\n\u001b[0;32m   1022\u001b[0m \u001b[38;5;28mself\u001b[39m\u001b[38;5;241m.\u001b[39m_update_frames(written)\n",
            "File \u001b[1;32mc:\\Users\\user\\anaconda3\\envs\\asvspoof2021\\lib\\site-packages\\soundfile.py:1344\u001b[0m, in \u001b[0;36mSoundFile._array_io\u001b[1;34m(self, action, array, frames)\u001b[0m\n\u001b[0;32m   1342\u001b[0m \u001b[38;5;28;01massert\u001b[39;00m array\u001b[38;5;241m.\u001b[39mdtype\u001b[38;5;241m.\u001b[39mitemsize \u001b[38;5;241m==\u001b[39m _ffi\u001b[38;5;241m.\u001b[39msizeof(ctype)\n\u001b[0;32m   1343\u001b[0m cdata \u001b[38;5;241m=\u001b[39m _ffi\u001b[38;5;241m.\u001b[39mcast(ctype \u001b[38;5;241m+\u001b[39m \u001b[38;5;124m'\u001b[39m\u001b[38;5;124m*\u001b[39m\u001b[38;5;124m'\u001b[39m, array\u001b[38;5;241m.\u001b[39m__array_interface__[\u001b[38;5;124m'\u001b[39m\u001b[38;5;124mdata\u001b[39m\u001b[38;5;124m'\u001b[39m][\u001b[38;5;241m0\u001b[39m])\n\u001b[1;32m-> 1344\u001b[0m \u001b[38;5;28;01mreturn\u001b[39;00m \u001b[38;5;28;43mself\u001b[39;49m\u001b[38;5;241;43m.\u001b[39;49m\u001b[43m_cdata_io\u001b[49m\u001b[43m(\u001b[49m\u001b[43maction\u001b[49m\u001b[43m,\u001b[49m\u001b[43m \u001b[49m\u001b[43mcdata\u001b[49m\u001b[43m,\u001b[49m\u001b[43m \u001b[49m\u001b[43mctype\u001b[49m\u001b[43m,\u001b[49m\u001b[43m \u001b[49m\u001b[43mframes\u001b[49m\u001b[43m)\u001b[49m\n",
            "File \u001b[1;32mc:\\Users\\user\\anaconda3\\envs\\asvspoof2021\\lib\\site-packages\\soundfile.py:1353\u001b[0m, in \u001b[0;36mSoundFile._cdata_io\u001b[1;34m(self, action, data, ctype, frames)\u001b[0m\n\u001b[0;32m   1351\u001b[0m     curr \u001b[38;5;241m=\u001b[39m \u001b[38;5;28mself\u001b[39m\u001b[38;5;241m.\u001b[39mtell()\n\u001b[0;32m   1352\u001b[0m func \u001b[38;5;241m=\u001b[39m \u001b[38;5;28mgetattr\u001b[39m(_snd, \u001b[38;5;124m'\u001b[39m\u001b[38;5;124msf_\u001b[39m\u001b[38;5;124m'\u001b[39m \u001b[38;5;241m+\u001b[39m action \u001b[38;5;241m+\u001b[39m \u001b[38;5;124m'\u001b[39m\u001b[38;5;124mf_\u001b[39m\u001b[38;5;124m'\u001b[39m \u001b[38;5;241m+\u001b[39m ctype)\n\u001b[1;32m-> 1353\u001b[0m frames \u001b[38;5;241m=\u001b[39m \u001b[43mfunc\u001b[49m\u001b[43m(\u001b[49m\u001b[38;5;28;43mself\u001b[39;49m\u001b[38;5;241;43m.\u001b[39;49m\u001b[43m_file\u001b[49m\u001b[43m,\u001b[49m\u001b[43m \u001b[49m\u001b[43mdata\u001b[49m\u001b[43m,\u001b[49m\u001b[43m \u001b[49m\u001b[43mframes\u001b[49m\u001b[43m)\u001b[49m\n\u001b[0;32m   1354\u001b[0m _error_check(\u001b[38;5;28mself\u001b[39m\u001b[38;5;241m.\u001b[39m_errorcode)\n\u001b[0;32m   1355\u001b[0m \u001b[38;5;28;01mif\u001b[39;00m \u001b[38;5;28mself\u001b[39m\u001b[38;5;241m.\u001b[39mseekable():\n",
            "\u001b[1;31mKeyboardInterrupt\u001b[0m: "
          ]
        }
      ],
      "source": [
        "org_path = 'data/padded_combined_train_for_noise.csv'\n",
        "noise_path = 'data/noise_for_add.csv'\n",
        "save_path = 'noise/'\n",
        "\n",
        "add_noise(org_path, noise_path, save_path)"
      ]
    },
    {
      "cell_type": "code",
      "execution_count": 10,
      "metadata": {},
      "outputs": [
        {
          "data": {
            "text/plain": [
              "110250"
            ]
          },
          "execution_count": 10,
          "metadata": {},
          "output_type": "execute_result"
        }
      ],
      "source": [
        "22050*5"
      ]
    },
    {
      "cell_type": "code",
      "execution_count": 29,
      "metadata": {},
      "outputs": [
        {
          "name": "stderr",
          "output_type": "stream",
          "text": [
            "100%|██████████| 60000/60000 [02:13<00:00, 450.89it/s]\n"
          ]
        }
      ],
      "source": [
        "import os\n",
        "import shutil\n",
        "\n",
        "def copy_excluding_list(source_dir, target_dir, exclude_list):\n",
        "    \"\"\"\n",
        "    source_dir에 있는 파일 중 exclude_list에 없는 파일만 target_dir로 복사합니다.\n",
        "\n",
        "    Parameters:\n",
        "    source_dir (str): 원본 폴더 경로\n",
        "    target_dir (str): 복사할 대상 폴더 경로\n",
        "    exclude_list (list): 복사하지 않을 파일 목록\n",
        "    \"\"\"\n",
        "    if not os.path.exists(target_dir):\n",
        "        os.makedirs(target_dir)\n",
        "    \n",
        "    for file_name in tqdm(os.listdir(source_dir)):\n",
        "        if file_name not in exclude_list:\n",
        "            full_file_name = os.path.join(source_dir, file_name)\n",
        "            if os.path.isfile(full_file_name):\n",
        "                shutil.copy(full_file_name, target_dir)\n",
        "                # print(f\"Copied: {file_name}\")\n",
        "\n",
        "# 사용 예시\n",
        "source_directory = 'data/padded_combined_train'  # 원본 폴더 경로\n",
        "target_directory = 'comb_noise_added'  # 대상 폴더 경로\n",
        "files_to_exclude = os.listdir('comb_noise_added/')  # 제외할 파일 목록\n",
        "\n",
        "copy_excluding_list(source_directory, target_directory, files_to_exclude)\n"
      ]
    },
    {
      "cell_type": "code",
      "execution_count": 30,
      "metadata": {},
      "outputs": [
        {
          "data": {
            "text/plain": [
              "60000"
            ]
          },
          "execution_count": 30,
          "metadata": {},
          "output_type": "execute_result"
        }
      ],
      "source": [
        "len(os.listdir('comb_noise_added/'))"
      ]
    },
    {
      "cell_type": "code",
      "execution_count": 18,
      "metadata": {},
      "outputs": [
        {
          "data": {
            "text/plain": [
              "10000"
            ]
          },
          "execution_count": 18,
          "metadata": {},
          "output_type": "execute_result"
        }
      ],
      "source": [
        "len(os.listdir('data/padded_combined_train_10000/'))"
      ]
    },
    {
      "cell_type": "code",
      "execution_count": 21,
      "metadata": {},
      "outputs": [],
      "source": [
        "import shutil"
      ]
    },
    {
      "cell_type": "code",
      "execution_count": 29,
      "metadata": {},
      "outputs": [
        {
          "data": {
            "text/plain": [
              "'mixed_combined_30000.ogg'"
            ]
          },
          "execution_count": 29,
          "metadata": {},
          "output_type": "execute_result"
        }
      ],
      "source": [
        "shutil.move('data/padded_combined_train/mixed_combined_30000.ogg', 'mixed_combined_30000.ogg')"
      ]
    },
    {
      "cell_type": "code",
      "execution_count": 28,
      "metadata": {},
      "outputs": [
        {
          "data": {
            "text/plain": [
              "10000"
            ]
          },
          "execution_count": 28,
          "metadata": {},
          "output_type": "execute_result"
        }
      ],
      "source": [
        "len(os.listdir('padded/'))"
      ]
    },
    {
      "cell_type": "code",
      "execution_count": null,
      "metadata": {},
      "outputs": [],
      "source": []
    }
  ],
  "metadata": {
    "colab": {
      "provenance": []
    },
    "kernelspec": {
      "display_name": "Python 3",
      "language": "python",
      "name": "python3"
    },
    "language_info": {
      "codemirror_mode": {
        "name": "ipython",
        "version": 3
      },
      "file_extension": ".py",
      "mimetype": "text/x-python",
      "name": "python",
      "nbconvert_exporter": "python",
      "pygments_lexer": "ipython3",
      "version": "3.8.19"
    }
  },
  "nbformat": 4,
  "nbformat_minor": 0
}
